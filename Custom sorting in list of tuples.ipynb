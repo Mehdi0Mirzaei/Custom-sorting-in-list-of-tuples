{
 "cells": [
  {
   "cell_type": "code",
   "execution_count": 14,
   "id": "53e08324",
   "metadata": {},
   "outputs": [
    {
     "name": "stdout",
     "output_type": "stream",
     "text": [
      "The original list is : [(7, 8), (5, 6), (7, 5), (10, 4), (10, 1)]\n",
      "The tuple after custom sorting is : [(10, 1), (10, 4), (7, 5), (7, 8), (5, 6)]\n"
     ]
    }
   ],
   "source": [
    "# Initializing list\n",
    "test_list = [(7, 8), (5, 6), (7, 5), (10, 4), (10, 1)]\n",
    " \n",
    "# printing original list\n",
    "print(\"The original list is : \" + str(test_list))\n",
    " \n",
    "# Custom sorting in list of tuples\n",
    "# Using sorted() + lambda\n",
    "res = sorted(test_list, key = lambda sub: (-sub[0], sub[1]))\n",
    " \n",
    "# printing result\n",
    "print(\"The tuple after custom sorting is : \" + str(res))\n"
   ]
  },
  {
   "cell_type": "code",
   "execution_count": 15,
   "id": "923249e3",
   "metadata": {},
   "outputs": [
    {
     "name": "stdout",
     "output_type": "stream",
     "text": [
      "The original list is : [(7, (8, 4)), (5, (6, 1)), (7, (5, 3)), (10, (5, 4)), (10, (1, 3))]\n",
      "The tuple after custom sorting is : [(10, (1, 3)), (10, (5, 4)), (7, (5, 3)), (7, (8, 4)), (5, (6, 1))]\n"
     ]
    }
   ],
   "source": [
    "# Initializing list\n",
    "test_list = [(7, (8, 4)), (5, (6, 1)), (7, (5, 3)), (10, (5, 4)), (10, (1, 3))]\n",
    " \n",
    "# printing original list\n",
    "print(\"The original list is : \" + str(test_list))\n",
    " \n",
    "# Custom sorting in list of tuples\n",
    "# Using sorted() + lambda() + sum()\n",
    "res = sorted(test_list, key = lambda sub: (-sub[0], sum(sub[1])))\n",
    " \n",
    "# printing result\n",
    "print(\"The tuple after custom sorting is : \" + str(res))"
   ]
  },
  {
   "cell_type": "code",
   "execution_count": 16,
   "id": "0dde90d5",
   "metadata": {},
   "outputs": [
    {
     "name": "stdout",
     "output_type": "stream",
     "text": [
      "[(10, 1), (10, 4), (7, 5), (7, 8), (5, 6)]\n"
     ]
    }
   ],
   "source": [
    "lst = [(7, 8), (5, 6), (7, 5), (10, 4), (10, 1)]\n",
    "n = len(lst)\n",
    " \n",
    "for i in range(n):\n",
    "    for j in range(n-i-1):\n",
    "        if lst[j][0] < lst[j+1][0] or (lst[j][0] == lst[j+1][0] and lst[j][1] > lst[j+1][1]):\n",
    "            lst[j], lst[j+1] = lst[j+1], lst[j]\n",
    " \n",
    "print(lst)"
   ]
  },
  {
   "cell_type": "code",
   "execution_count": null,
   "id": "b326e151",
   "metadata": {},
   "outputs": [],
   "source": []
  }
 ],
 "metadata": {
  "kernelspec": {
   "display_name": "Python 3 (ipykernel)",
   "language": "python",
   "name": "python3"
  },
  "language_info": {
   "codemirror_mode": {
    "name": "ipython",
    "version": 3
   },
   "file_extension": ".py",
   "mimetype": "text/x-python",
   "name": "python",
   "nbconvert_exporter": "python",
   "pygments_lexer": "ipython3",
   "version": "3.9.13"
  }
 },
 "nbformat": 4,
 "nbformat_minor": 5
}
